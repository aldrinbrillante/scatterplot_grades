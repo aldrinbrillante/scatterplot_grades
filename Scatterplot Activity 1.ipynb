{
 "cells": [
  {
   "cell_type": "code",
   "execution_count": 2,
   "metadata": {},
   "outputs": [
    {
     "data": {
      "image/png": "[encoded data removed]",
      "text/plain": [
       "<Figure size 432x288 with 1 Axes>"
      ]
     },
     "metadata": {
      "needs_background": "light"
     },
     "output_type": "display_data"
    },
    {
     "data": {
      "text/plain": [
       "' Visualize the data by scatterplot. Don’t forget to label x and y axes. \\nDo you see any relationship between the two variables? What’s that?\\nTheory: The less you are absent, the higher your grade'"
      ]
     },
     "execution_count": 2,
     "metadata": {},
     "output_type": "execute_result"
    }
   ],
   "source": [
    "import numpy as np\n",
    "import matplotlib.pyplot as plt\n",
    "\n",
    "# Number of absences (no-unit)\n",
    "X = np.array([6,2,15,9,12,5,8])\n",
    "\n",
    "# Final grades (%)\n",
    "Y = np.array([82,86,43,74,58,90,78])\n",
    "\n",
    "plt.scatter(X, Y)\n",
    "plt.xlabel('Number of absences')\n",
    "plt.ylabel('Final Grade (%)')\n",
    "plt.show()\n",
    "\n",
    "''' Visualize the data by scatterplot. Don’t forget to label x and y axes. \n",
    "Do you see any relationship between the two variables? What’s that?\n",
    "Theory: The less you are absent, the higher your grade'''"
   ]
  },
  {
   "cell_type": "code",
   "execution_count": null,
   "metadata": {},
   "outputs": [],
   "source": []
  }
 ],
 "metadata": {
  "kernelspec": {
   "display_name": "Python 3",
   "language": "python",
   "name": "python3"
  },
  "language_info": {
   "codemirror_mode": {
    "name": "ipython",
    "version": 3
   },
   "file_extension": ".py",
   "mimetype": "text/x-python",
   "name": "python",
   "nbconvert_exporter": "python",
   "pygments_lexer": "ipython3",
   "version": "3.8.3"
  }
 },
 "nbformat": 4,
 "nbformat_minor": 4
}
